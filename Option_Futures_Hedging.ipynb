{
 "cells": [
  {
   "cell_type": "markdown",
   "metadata": {},
   "source": [
    "# **Trabajo Final Valoración de Derivados**"
   ]
  },
  {
   "cell_type": "markdown",
   "metadata": {},
   "source": [
    "### Integrantes\n",
    "Esteban Zuluaga\n",
    "\n",
    "Miguel Gallón\n",
    "\n",
    "Isabella García\n",
    "\n",
    "Esteban Gómez "
   ]
  },
  {
   "cell_type": "code",
   "execution_count": 1,
   "metadata": {},
   "outputs": [],
   "source": [
    "import pandas as pd\n",
    "import gurobipy as gp\n",
    "import numpy as np\n",
    "import matplotlib.pyplot as plt\n",
    "import seaborn as sns\n",
    "import scipy.stats as si\n",
    "import yfinance as yf"
   ]
  },
  {
   "cell_type": "code",
   "execution_count": 2,
   "metadata": {},
   "outputs": [],
   "source": [
    "# Hay que entrar el sigma al cuadrado! Osea se entra la varianza!\n",
    "def black_scholes(S, K, T, r_loc,r_ext, sigma, option_type='call'):\n",
    "  \n",
    "    # Calculate d1 and d2\n",
    "    d1 = (np.log(S / K) + ((r_loc-r_ext) + 0.5 * sigma**2) * T) / (sigma * np.sqrt(T))\n",
    "    d2 = (np.log(S / K) + ((r_loc-r_ext) - 0.5 * sigma**2) * T) / (sigma * np.sqrt(T))\n",
    "    if option_type == 'call':\n",
    "        option_price = (S*np.exp(-r_ext * T) * si.norm.cdf(d1, 0.0, 1.0) - K * np.exp(-r_loc * T) * si.norm.cdf(d2, 0.0, 1.0))\n",
    "    elif option_type == 'put':\n",
    "        option_price = (K * np.exp(-r_loc * T) * si.norm.cdf(-d2, 0.0, 1.0) - S *np.exp(-r_ext * T)* si.norm.cdf(-d1, 0.0, 1.0))\n",
    "    else:\n",
    "        raise ValueError(\"Option type must be 'call' or 'put'\")\n",
    "    \n",
    "    return option_price"
   ]
  },
  {
   "cell_type": "markdown",
   "metadata": {},
   "source": [
    "# Datos Iniciales"
   ]
  },
  {
   "cell_type": "markdown",
   "metadata": {},
   "source": [
    "## Datos"
   ]
  },
  {
   "cell_type": "code",
   "execution_count": 3,
   "metadata": {},
   "outputs": [
    {
     "name": "stderr",
     "output_type": "stream",
     "text": [
      "[*********************100%%**********************]  1 of 1 completed\n"
     ]
    }
   ],
   "source": [
    "data= yf.download(tickers=\"COP=X\",start=\"2019-05-23\", end=\"2024-05-23\")\n",
    "precios= data[\"Adj Close\"].copy()\n",
    "precios =pd.DataFrame(precios)\n",
    "rendimientos=precios.apply(lambda x: np.log(x).diff())"
   ]
  },
  {
   "cell_type": "code",
   "execution_count": 4,
   "metadata": {},
   "outputs": [],
   "source": [
    "Spot_P= data[\"Adj Close\"].iloc[-1]\n",
    "Strike= 3800 # Strike más cercano a ATM\n",
    "t_1= 33/365 # Vencimiento de la opción más cercana a vencer\n",
    "r_local= np.log(1+0.10963) #ACC\n",
    "r_extranjera= 0.0531 #ACC\n",
    "Sigma_Rend= np.std(rendimientos,axis=0) * np.sqrt(252)\n",
    "Sigma_Rend=float(Sigma_Rend.iloc[0])"
   ]
  },
  {
   "cell_type": "code",
   "execution_count": 26,
   "metadata": {},
   "outputs": [
    {
     "data": {
      "text/plain": [
       "0.15965970263134174"
      ]
     },
     "execution_count": 26,
     "metadata": {},
     "output_type": "execute_result"
    }
   ],
   "source": [
    "Sigma_Rend"
   ]
  },
  {
   "cell_type": "markdown",
   "metadata": {},
   "source": [
    "**Strike** fue escogido de manera estrategica con las persepctiva  de la tasa  de cambio y del precio spot, para cualquier tipo de opción, si el objetivo es la cobertura, se debe escoger el precio spot como el strike (Opción ATM)\n",
    "\n",
    "**R_Local**: La tasa local se obtuvo la IBR Overnight del Banco de la Republica, que se ubicó el 05/24/2024 en 10.963%\n",
    "\n",
    "**R_Extranjera**: Para la escogencia de la tasa extranjera se escogio la tasa SOFR overnight, la cual para el 05/24/2024 se situaba  en 5.31%\n",
    "\n",
    "**Segima_Rend**: Para la volatilidad implícita se optó por encontrar la desviación estándar de los retornos diarios y anualizarla."
   ]
  },
  {
   "cell_type": "code",
   "execution_count": 5,
   "metadata": {},
   "outputs": [
    {
     "data": {
      "text/plain": [
       "54.89798285265374"
      ]
     },
     "execution_count": 5,
     "metadata": {},
     "output_type": "execute_result"
    }
   ],
   "source": [
    "put_price = black_scholes(S=Spot_P, K=Strike, T=t_1,r_loc=r_local ,r_ext= r_extranjera, sigma=Sigma_Rend, option_type='put')\n",
    "put_price"
   ]
  },
  {
   "cell_type": "markdown",
   "metadata": {},
   "source": [
    "# Optimización"
   ]
  },
  {
   "cell_type": "code",
   "execution_count": 6,
   "metadata": {},
   "outputs": [],
   "source": [
    "def optimizacion(Aversion_R, K, p_0, mu_S,sigma_p,S_0):\n",
    "    m= gp.Model()\n",
    "    eta= m.addVar(lb= -1*float(\"inf\") )\n",
    "    pi = (mu_S-S_0)+eta*(K-mu_S-p_0) - Aversion_R*sigma_p*(1+ eta**2 - 2*eta)\n",
    "    m.setObjective(-1*pi)\n",
    "    m.optimize()\n",
    "    n_options= eta.x\n",
    "    return n_options"
   ]
  },
  {
   "cell_type": "code",
   "execution_count": 7,
   "metadata": {},
   "outputs": [
    {
     "name": "stdout",
     "output_type": "stream",
     "text": [
      "Restricted license - for non-production use only - expires 2025-11-24\n",
      "Gurobi Optimizer version 11.0.2 build v11.0.2rc0 (win64 - Windows 11.0 (22631.2))\n",
      "\n",
      "CPU model: Intel(R) Core(TM) i5-10300H CPU @ 2.50GHz, instruction set [SSE2|AVX|AVX2]\n",
      "Thread count: 4 physical cores, 8 logical processors, using up to 8 threads\n",
      "\n",
      "Optimize a model with 0 rows, 1 columns and 0 nonzeros\n",
      "Model fingerprint: 0x23637c54\n",
      "Model has 1 quadratic objective term\n",
      "Coefficient statistics:\n",
      "  Matrix range     [0e+00, 0e+00]\n",
      "  Objective range  [4e+05, 4e+05]\n",
      "  QObjective range [4e+05, 4e+05]\n",
      "  Bounds range     [0e+00, 0e+00]\n",
      "  RHS range        [0e+00, 0e+00]\n",
      "Presolve removed 0 rows and 1 columns\n",
      "Presolve time: 0.01s\n",
      "Presolve: All rows and columns removed\n",
      "\n",
      "Barrier solved model in 0 iterations and 0.02 seconds (0.00 work units)\n",
      "Optimal objective 7.59181679e+01\n"
     ]
    }
   ],
   "source": [
    "Mu_USDCOP= np.mean(data[\"Adj Close\"])\n",
    "Sigma_Precios= np.var(data[\"Adj Close\"])\n",
    "Coef_Aversion_Riesgo= 1\n",
    "Razon_Cobertura= optimizacion(Aversion_R=Coef_Aversion_Riesgo,K=Strike,p_0=put_price,mu_S=Mu_USDCOP,sigma_p=Sigma_Precios, S_0=Spot_P)"
   ]
  },
  {
   "cell_type": "code",
   "execution_count": 8,
   "metadata": {},
   "outputs": [
    {
     "name": "stdout",
     "output_type": "stream",
     "text": [
      "La razón de cobertura de la fórmula empleada, para un agente con un coeficiente de aversión al riesgo de 1 es de: 0.9995\n"
     ]
    }
   ],
   "source": [
    "print(f\"La razón de cobertura de la fórmula empleada, para un agente con un coeficiente de aversión al riesgo de 1 es de: {Razon_Cobertura:.4f}\")"
   ]
  },
  {
   "cell_type": "markdown",
   "metadata": {},
   "source": [
    "## Gráfica de los diferentes Payoffs"
   ]
  },
  {
   "cell_type": "code",
   "execution_count": 9,
   "metadata": {},
   "outputs": [
    {
     "data": {
      "image/png": "[encoded data removed]",
      "text/plain": [
       "<Figure size 1000x600 with 1 Axes>"
      ]
     },
     "metadata": {},
     "output_type": "display_data"
    }
   ],
   "source": [
    "Prices = np.random.normal(loc=Mu_USDCOP,scale=np.sqrt(Sigma_Precios),size=1000)\n",
    "Unhedged_utility=(Prices-Spot_P)\n",
    "Hedged_utility= (Prices-Spot_P)+Razon_Cobertura*(Strike-Prices-put_price)\n",
    "plt.figure(figsize=(10, 6))\n",
    "sns.kdeplot(Unhedged_utility, fill=False, color='b',label='Unhedged Utility')\n",
    "sns.kdeplot(Hedged_utility, fill=False, color='r', label='Hedged Utility')\n",
    "\n",
    "plt.title('Utilidades')\n",
    "plt.xlabel('Profit')\n",
    "plt.ylabel('Density')\n",
    "plt.legend()\n",
    "plt.show()"
   ]
  },
  {
   "cell_type": "markdown",
   "metadata": {},
   "source": [
    "### Estadísticas Descriptivas"
   ]
  },
  {
   "cell_type": "code",
   "execution_count": 10,
   "metadata": {},
   "outputs": [
    {
     "data": {
      "text/html": [
       "<div>\n",
       "<style scoped>\n",
       "    .dataframe tbody tr th:only-of-type {\n",
       "        vertical-align: middle;\n",
       "    }\n",
       "\n",
       "    .dataframe tbody tr th {\n",
       "        vertical-align: top;\n",
       "    }\n",
       "\n",
       "    .dataframe thead th {\n",
       "        text-align: right;\n",
       "    }\n",
       "</style>\n",
       "<table border=\"1\" class=\"dataframe\">\n",
       "  <thead>\n",
       "    <tr style=\"text-align: right;\">\n",
       "      <th></th>\n",
       "      <th>Unhedged Utility</th>\n",
       "      <th>Hedged Utility</th>\n",
       "    </tr>\n",
       "  </thead>\n",
       "  <tbody>\n",
       "    <tr>\n",
       "      <th>count</th>\n",
       "      <td>1000.000000</td>\n",
       "      <td>1000.000000</td>\n",
       "    </tr>\n",
       "    <tr>\n",
       "      <th>mean</th>\n",
       "      <td>105.223337</td>\n",
       "      <td>-75.871881</td>\n",
       "    </tr>\n",
       "    <tr>\n",
       "      <th>std</th>\n",
       "      <td>412.595087</td>\n",
       "      <td>0.196208</td>\n",
       "    </tr>\n",
       "    <tr>\n",
       "      <th>min</th>\n",
       "      <td>-1125.676694</td>\n",
       "      <td>-76.457232</td>\n",
       "    </tr>\n",
       "    <tr>\n",
       "      <th>25%</th>\n",
       "      <td>-179.370823</td>\n",
       "      <td>-76.007219</td>\n",
       "    </tr>\n",
       "    <tr>\n",
       "      <th>50%</th>\n",
       "      <td>102.743652</td>\n",
       "      <td>-75.873060</td>\n",
       "    </tr>\n",
       "    <tr>\n",
       "      <th>75%</th>\n",
       "      <td>399.221201</td>\n",
       "      <td>-75.732071</td>\n",
       "    </tr>\n",
       "    <tr>\n",
       "      <th>max</th>\n",
       "      <td>1229.318588</td>\n",
       "      <td>-75.337321</td>\n",
       "    </tr>\n",
       "  </tbody>\n",
       "</table>\n",
       "</div>"
      ],
      "text/plain": [
       "       Unhedged Utility  Hedged Utility\n",
       "count       1000.000000     1000.000000\n",
       "mean         105.223337      -75.871881\n",
       "std          412.595087        0.196208\n",
       "min        -1125.676694      -76.457232\n",
       "25%         -179.370823      -76.007219\n",
       "50%          102.743652      -75.873060\n",
       "75%          399.221201      -75.732071\n",
       "max         1229.318588      -75.337321"
      ]
     },
     "execution_count": 10,
     "metadata": {},
     "output_type": "execute_result"
    }
   ],
   "source": [
    "Unhedged_utility_df= pd.DataFrame(Unhedged_utility)\n",
    "Hedged_utility_df= pd.DataFrame(Hedged_utility)\n",
    "Megerd_Df= pd.merge(Unhedged_utility_df,Hedged_utility_df,left_index=True,right_index=True)\n",
    "Megerd_Df=Megerd_Df.rename(columns={\"0_x\":\"Unhedged Utility\",\"0_y\":\"Hedged Utility\"})\n",
    "Megerd_Df.describe()"
   ]
  },
  {
   "cell_type": "markdown",
   "metadata": {},
   "source": [
    "## Gráfica de diferentes aversiones al riesgo"
   ]
  },
  {
   "cell_type": "code",
   "execution_count": 11,
   "metadata": {},
   "outputs": [
    {
     "name": "stdout",
     "output_type": "stream",
     "text": [
      "Gurobi Optimizer version 11.0.2 build v11.0.2rc0 (win64 - Windows 11.0 (22631.2))\n",
      "\n",
      "CPU model: Intel(R) Core(TM) i5-10300H CPU @ 2.50GHz, instruction set [SSE2|AVX|AVX2]\n",
      "Thread count: 4 physical cores, 8 logical processors, using up to 8 threads\n",
      "\n",
      "Optimize a model with 0 rows, 1 columns and 0 nonzeros\n",
      "Model fingerprint: 0x665843dd\n",
      "Model has 1 quadratic objective term\n",
      "Coefficient statistics:\n",
      "  Matrix range     [0e+00, 0e+00]\n",
      "  Objective range  [2e+05, 2e+05]\n",
      "  QObjective range [2e+05, 2e+05]\n",
      "  Bounds range     [0e+00, 0e+00]\n",
      "  RHS range        [0e+00, 0e+00]\n",
      "Presolve removed 0 rows and 1 columns\n",
      "Presolve time: 0.01s\n",
      "Presolve: All rows and columns removed\n",
      "\n",
      "Barrier solved model in 0 iterations and 0.01 seconds (0.00 work units)\n",
      "Optimal objective 7.58782943e+01\n",
      "Gurobi Optimizer version 11.0.2 build v11.0.2rc0 (win64 - Windows 11.0 (22631.2))\n",
      "\n",
      "CPU model: Intel(R) Core(TM) i5-10300H CPU @ 2.50GHz, instruction set [SSE2|AVX|AVX2]\n",
      "Thread count: 4 physical cores, 8 logical processors, using up to 8 threads\n",
      "\n",
      "Optimize a model with 0 rows, 1 columns and 0 nonzeros\n",
      "Model fingerprint: 0x23637c54\n",
      "Model has 1 quadratic objective term\n",
      "Coefficient statistics:\n",
      "  Matrix range     [0e+00, 0e+00]\n",
      "  Objective range  [4e+05, 4e+05]\n",
      "  QObjective range [4e+05, 4e+05]\n",
      "  Bounds range     [0e+00, 0e+00]\n",
      "  RHS range        [0e+00, 0e+00]\n",
      "Presolve removed 0 rows and 1 columns\n",
      "Presolve time: 0.01s\n",
      "Presolve: All rows and columns removed\n",
      "\n",
      "Barrier solved model in 0 iterations and 0.01 seconds (0.00 work units)\n",
      "Optimal objective 7.59181679e+01\n",
      "Gurobi Optimizer version 11.0.2 build v11.0.2rc0 (win64 - Windows 11.0 (22631.2))\n",
      "\n",
      "CPU model: Intel(R) Core(TM) i5-10300H CPU @ 2.50GHz, instruction set [SSE2|AVX|AVX2]\n",
      "Thread count: 4 physical cores, 8 logical processors, using up to 8 threads\n",
      "\n",
      "Optimize a model with 0 rows, 1 columns and 0 nonzeros\n",
      "Model fingerprint: 0xe772abd0\n",
      "Model has 1 quadratic objective term\n",
      "Coefficient statistics:\n",
      "  Matrix range     [0e+00, 0e+00]\n",
      "  Objective range  [5e+05, 5e+05]\n",
      "  QObjective range [5e+05, 5e+05]\n",
      "  Bounds range     [0e+00, 0e+00]\n",
      "  RHS range        [0e+00, 0e+00]\n",
      "Presolve removed 0 rows and 1 columns\n",
      "Presolve time: 0.01s\n",
      "Presolve: All rows and columns removed\n",
      "\n",
      "Barrier solved model in 0 iterations and 0.01 seconds (0.00 work units)\n",
      "Optimal objective 7.59314591e+01\n",
      "Gurobi Optimizer version 11.0.2 build v11.0.2rc0 (win64 - Windows 11.0 (22631.2))\n",
      "\n",
      "CPU model: Intel(R) Core(TM) i5-10300H CPU @ 2.50GHz, instruction set [SSE2|AVX|AVX2]\n",
      "Thread count: 4 physical cores, 8 logical processors, using up to 8 threads\n",
      "\n",
      "Optimize a model with 0 rows, 1 columns and 0 nonzeros\n",
      "Model fingerprint: 0x015756be\n",
      "Model has 1 quadratic objective term\n",
      "Coefficient statistics:\n",
      "  Matrix range     [0e+00, 0e+00]\n",
      "  Objective range  [7e+05, 7e+05]\n",
      "  QObjective range [7e+05, 7e+05]\n",
      "  Bounds range     [0e+00, 0e+00]\n",
      "  RHS range        [0e+00, 0e+00]\n",
      "Presolve removed 0 rows and 1 columns\n",
      "Presolve time: 0.01s\n",
      "Presolve: All rows and columns removed\n",
      "\n",
      "Barrier solved model in 0 iterations and 0.01 seconds (0.00 work units)\n",
      "Optimal objective 7.59381047e+01\n"
     ]
    },
    {
     "data": {
      "image/png": "[encoded data removed]",
      "text/plain": [
       "<Figure size 640x480 with 1 Axes>"
      ]
     },
     "metadata": {},
     "output_type": "display_data"
    }
   ],
   "source": [
    "Risk_Adversion_Line= [0.5,1,1.5,2]\n",
    "Risk_Adversion_Utility_df= pd.DataFrame()\n",
    "\n",
    "\n",
    "for i in Risk_Adversion_Line:\n",
    "    Razon_Cobertura= optimizacion(Aversion_R=i,K=Strike,p_0=put_price,mu_S=Mu_USDCOP,sigma_p=Sigma_Precios, S_0=Spot_P)\n",
    "    Hedged_utility= (Prices-Spot_P)+Razon_Cobertura*(Strike-Prices-put_price)\n",
    "    Risk_Adversion_Utility_df[i]= Hedged_utility\n",
    "for column in Risk_Adversion_Utility_df.columns:\n",
    "    sns.kdeplot(Risk_Adversion_Utility_df[column], fill=False, label=f\"{column} Aversión al Riesgo\")\n",
    "\n",
    "# Añadir título y etiquetas\n",
    "plt.title('Utilidades')\n",
    "plt.xlabel('Profit')\n",
    "plt.ylabel('Density')\n",
    "\n",
    "# Añadir la leyenda\n",
    "plt.legend(title='Columnas')\n",
    "\n",
    "# Mostrar el gráfico\n",
    "plt.show()"
   ]
  },
  {
   "cell_type": "markdown",
   "metadata": {},
   "source": [
    "### Estadísticas Descriptivas"
   ]
  },
  {
   "cell_type": "code",
   "execution_count": 12,
   "metadata": {},
   "outputs": [
    {
     "data": {
      "text/html": [
       "<div>\n",
       "<style scoped>\n",
       "    .dataframe tbody tr th:only-of-type {\n",
       "        vertical-align: middle;\n",
       "    }\n",
       "\n",
       "    .dataframe tbody tr th {\n",
       "        vertical-align: top;\n",
       "    }\n",
       "\n",
       "    .dataframe thead th {\n",
       "        text-align: right;\n",
       "    }\n",
       "</style>\n",
       "<table border=\"1\" class=\"dataframe\">\n",
       "  <thead>\n",
       "    <tr style=\"text-align: right;\">\n",
       "      <th></th>\n",
       "      <th>0.5</th>\n",
       "      <th>1.0</th>\n",
       "      <th>1.5</th>\n",
       "      <th>2.0</th>\n",
       "    </tr>\n",
       "  </thead>\n",
       "  <tbody>\n",
       "    <tr>\n",
       "      <th>count</th>\n",
       "      <td>1000.000000</td>\n",
       "      <td>1000.000000</td>\n",
       "      <td>1000.000000</td>\n",
       "      <td>1000.000000</td>\n",
       "    </tr>\n",
       "    <tr>\n",
       "      <th>mean</th>\n",
       "      <td>-75.785721</td>\n",
       "      <td>-75.871881</td>\n",
       "      <td>-75.900601</td>\n",
       "      <td>-75.914961</td>\n",
       "    </tr>\n",
       "    <tr>\n",
       "      <th>std</th>\n",
       "      <td>0.392417</td>\n",
       "      <td>0.196208</td>\n",
       "      <td>0.130806</td>\n",
       "      <td>0.098104</td>\n",
       "    </tr>\n",
       "    <tr>\n",
       "      <th>min</th>\n",
       "      <td>-76.956423</td>\n",
       "      <td>-76.457232</td>\n",
       "      <td>-76.290835</td>\n",
       "      <td>-76.207637</td>\n",
       "    </tr>\n",
       "    <tr>\n",
       "      <th>25%</th>\n",
       "      <td>-76.056397</td>\n",
       "      <td>-76.007219</td>\n",
       "      <td>-75.990827</td>\n",
       "      <td>-75.982630</td>\n",
       "    </tr>\n",
       "    <tr>\n",
       "      <th>50%</th>\n",
       "      <td>-75.788079</td>\n",
       "      <td>-75.873060</td>\n",
       "      <td>-75.901387</td>\n",
       "      <td>-75.915551</td>\n",
       "    </tr>\n",
       "    <tr>\n",
       "      <th>75%</th>\n",
       "      <td>-75.506101</td>\n",
       "      <td>-75.732071</td>\n",
       "      <td>-75.807395</td>\n",
       "      <td>-75.845056</td>\n",
       "    </tr>\n",
       "    <tr>\n",
       "      <th>max</th>\n",
       "      <td>-74.716600</td>\n",
       "      <td>-75.337321</td>\n",
       "      <td>-75.544228</td>\n",
       "      <td>-75.647681</td>\n",
       "    </tr>\n",
       "  </tbody>\n",
       "</table>\n",
       "</div>"
      ],
      "text/plain": [
       "               0.5          1.0          1.5          2.0\n",
       "count  1000.000000  1000.000000  1000.000000  1000.000000\n",
       "mean    -75.785721   -75.871881   -75.900601   -75.914961\n",
       "std       0.392417     0.196208     0.130806     0.098104\n",
       "min     -76.956423   -76.457232   -76.290835   -76.207637\n",
       "25%     -76.056397   -76.007219   -75.990827   -75.982630\n",
       "50%     -75.788079   -75.873060   -75.901387   -75.915551\n",
       "75%     -75.506101   -75.732071   -75.807395   -75.845056\n",
       "max     -74.716600   -75.337321   -75.544228   -75.647681"
      ]
     },
     "execution_count": 12,
     "metadata": {},
     "output_type": "execute_result"
    }
   ],
   "source": [
    "Risk_Adversion_Utility_df.describe()"
   ]
  },
  {
   "cell_type": "markdown",
   "metadata": {},
   "source": [
    "## Graficas de diferentes Strikes"
   ]
  },
  {
   "cell_type": "code",
   "execution_count": 13,
   "metadata": {},
   "outputs": [
    {
     "name": "stdout",
     "output_type": "stream",
     "text": [
      "Gurobi Optimizer version 11.0.2 build v11.0.2rc0 (win64 - Windows 11.0 (22631.2))\n",
      "\n",
      "CPU model: Intel(R) Core(TM) i5-10300H CPU @ 2.50GHz, instruction set [SSE2|AVX|AVX2]\n",
      "Thread count: 4 physical cores, 8 logical processors, using up to 8 threads\n",
      "\n",
      "Optimize a model with 0 rows, 1 columns and 0 nonzeros\n",
      "Model fingerprint: 0x1ac577ad\n",
      "Model has 1 quadratic objective term\n",
      "Coefficient statistics:\n",
      "  Matrix range     [0e+00, 0e+00]\n",
      "  Objective range  [4e+05, 4e+05]\n",
      "  QObjective range [4e+05, 4e+05]\n",
      "  Bounds range     [0e+00, 0e+00]\n",
      "  RHS range        [0e+00, 0e+00]\n",
      "Presolve removed 0 rows and 1 columns\n",
      "Presolve time: 0.01s\n",
      "Presolve: All rows and columns removed\n",
      "\n",
      "Barrier solved model in 0 iterations and 0.01 seconds (0.00 work units)\n",
      "Optimal objective 8.19878679e+02\n",
      "Gurobi Optimizer version 11.0.2 build v11.0.2rc0 (win64 - Windows 11.0 (22631.2))\n",
      "\n",
      "CPU model: Intel(R) Core(TM) i5-10300H CPU @ 2.50GHz, instruction set [SSE2|AVX|AVX2]\n",
      "Thread count: 4 physical cores, 8 logical processors, using up to 8 threads\n",
      "\n",
      "Optimize a model with 0 rows, 1 columns and 0 nonzeros\n",
      "Model fingerprint: 0x33649019\n",
      "Model has 1 quadratic objective term\n",
      "Coefficient statistics:\n",
      "  Matrix range     [0e+00, 0e+00]\n",
      "  Objective range  [4e+05, 4e+05]\n",
      "  QObjective range [4e+05, 4e+05]\n",
      "  Bounds range     [0e+00, 0e+00]\n",
      "  RHS range        [0e+00, 0e+00]\n",
      "Presolve removed 0 rows and 1 columns\n",
      "Presolve time: 0.01s\n",
      "Presolve: All rows and columns removed\n",
      "\n",
      "Barrier solved model in 0 iterations and 0.01 seconds (0.00 work units)\n",
      "Optimal objective 6.20342602e+02\n",
      "Gurobi Optimizer version 11.0.2 build v11.0.2rc0 (win64 - Windows 11.0 (22631.2))\n",
      "\n",
      "CPU model: Intel(R) Core(TM) i5-10300H CPU @ 2.50GHz, instruction set [SSE2|AVX|AVX2]\n",
      "Thread count: 4 physical cores, 8 logical processors, using up to 8 threads\n",
      "\n",
      "Optimize a model with 0 rows, 1 columns and 0 nonzeros\n",
      "Model fingerprint: 0x95595d7c\n",
      "Model has 1 quadratic objective term\n",
      "Coefficient statistics:\n",
      "  Matrix range     [0e+00, 0e+00]\n",
      "  Objective range  [4e+05, 4e+05]\n",
      "  QObjective range [4e+05, 4e+05]\n",
      "  Bounds range     [0e+00, 0e+00]\n",
      "  RHS range        [0e+00, 0e+00]\n",
      "Presolve removed 0 rows and 1 columns\n",
      "Presolve time: 0.01s\n",
      "Presolve: All rows and columns removed\n",
      "\n",
      "Barrier solved model in 0 iterations and 0.01 seconds (0.00 work units)\n",
      "Optimal objective 3.22625671e+02\n",
      "Gurobi Optimizer version 11.0.2 build v11.0.2rc0 (win64 - Windows 11.0 (22631.2))\n",
      "\n",
      "CPU model: Intel(R) Core(TM) i5-10300H CPU @ 2.50GHz, instruction set [SSE2|AVX|AVX2]\n",
      "Thread count: 4 physical cores, 8 logical processors, using up to 8 threads\n",
      "\n",
      "Optimize a model with 0 rows, 1 columns and 0 nonzeros\n",
      "Model fingerprint: 0x23637c54\n",
      "Model has 1 quadratic objective term\n",
      "Coefficient statistics:\n",
      "  Matrix range     [0e+00, 0e+00]\n",
      "  Objective range  [4e+05, 4e+05]\n",
      "  QObjective range [4e+05, 4e+05]\n",
      "  Bounds range     [0e+00, 0e+00]\n",
      "  RHS range        [0e+00, 0e+00]\n",
      "Presolve removed 0 rows and 1 columns\n",
      "Presolve time: 0.01s\n",
      "Presolve: All rows and columns removed\n",
      "\n",
      "Barrier solved model in 0 iterations and 0.01 seconds (0.00 work units)\n",
      "Optimal objective 7.59181679e+01\n",
      "Gurobi Optimizer version 11.0.2 build v11.0.2rc0 (win64 - Windows 11.0 (22631.2))\n",
      "\n",
      "CPU model: Intel(R) Core(TM) i5-10300H CPU @ 2.50GHz, instruction set [SSE2|AVX|AVX2]\n",
      "Thread count: 4 physical cores, 8 logical processors, using up to 8 threads\n",
      "\n",
      "Optimize a model with 0 rows, 1 columns and 0 nonzeros\n",
      "Model fingerprint: 0x01c30c0e\n",
      "Model has 1 quadratic objective term\n",
      "Coefficient statistics:\n",
      "  Matrix range     [0e+00, 0e+00]\n",
      "  Objective range  [4e+05, 4e+05]\n",
      "  QObjective range [4e+05, 4e+05]\n",
      "  Bounds range     [0e+00, 0e+00]\n",
      "  RHS range        [0e+00, 0e+00]\n",
      "Presolve removed 0 rows and 1 columns\n",
      "Presolve time: 0.00s\n",
      "Presolve: All rows and columns removed\n",
      "\n",
      "Barrier solved model in 0 iterations and 0.01 seconds (0.00 work units)\n",
      "Optimal objective 1.06238609e+00\n",
      "Gurobi Optimizer version 11.0.2 build v11.0.2rc0 (win64 - Windows 11.0 (22631.2))\n",
      "\n",
      "CPU model: Intel(R) Core(TM) i5-10300H CPU @ 2.50GHz, instruction set [SSE2|AVX|AVX2]\n",
      "Thread count: 4 physical cores, 8 logical processors, using up to 8 threads\n",
      "\n",
      "Optimize a model with 0 rows, 1 columns and 0 nonzeros\n",
      "Model fingerprint: 0xe7730a50\n",
      "Model has 1 quadratic objective term\n",
      "Coefficient statistics:\n",
      "  Matrix range     [0e+00, 0e+00]\n",
      "  Objective range  [4e+05, 4e+05]\n",
      "  QObjective range [4e+05, 4e+05]\n",
      "  Bounds range     [0e+00, 0e+00]\n",
      "  RHS range        [0e+00, 0e+00]\n",
      "Presolve removed 0 rows and 1 columns\n",
      "Presolve time: 0.00s\n",
      "Presolve: All rows and columns removed\n",
      "\n",
      "Barrier solved model in 0 iterations and 0.00 seconds (0.00 work units)\n",
      "Optimal objective -1.87648476e+01\n"
     ]
    }
   ],
   "source": [
    "Strikes_Line= [3000,3200,3500,3800,4000,4200]\n",
    "Strikes_Utility_df= pd.DataFrame()\n",
    "for i in Strikes_Line:\n",
    "    put_price1 = black_scholes(S=Spot_P, K=i, T=t_1,r_loc=r_local ,r_ext= r_extranjera, sigma=Sigma_Rend, option_type='put')\n",
    "    Razon_Cobertura1= optimizacion(Aversion_R=Coef_Aversion_Riesgo,K=i,p_0=put_price1,mu_S=Mu_USDCOP,sigma_p=Sigma_Precios, S_0=Spot_P)\n",
    "    Hedged_utility1= (Prices-Spot_P)+Razon_Cobertura1*(i-Prices-put_price1)\n",
    "    Strikes_Utility_df[i]= Hedged_utility1"
   ]
  },
  {
   "cell_type": "code",
   "execution_count": 14,
   "metadata": {},
   "outputs": [
    {
     "data": {
      "image/png": "[encoded data removed]",
      "text/plain": [
       "<Figure size 640x480 with 1 Axes>"
      ]
     },
     "metadata": {},
     "output_type": "display_data"
    }
   ],
   "source": [
    "for column in Strikes_Utility_df.columns:\n",
    "    sns.kdeplot(Strikes_Utility_df[column], fill=False, label=f\"Strike: {column} Hedged\")\n",
    "#sns.kdeplot(Unhedged_utility, fill=False, color='black',label='Unhedged Utility')\n",
    "# Añadir título y etiquetas\n",
    "plt.title('Utilidades')\n",
    "plt.xlabel('Profit')\n",
    "plt.ylabel('Density')\n",
    "\n",
    "# Añadir la leyenda\n",
    "plt.legend(title='Columnas')\n",
    "\n",
    "# Mostrar el gráfico\n",
    "plt.show()"
   ]
  },
  {
   "cell_type": "markdown",
   "metadata": {},
   "source": [
    "# Valorar Cobertura Futuro (Punto 5)"
   ]
  },
  {
   "cell_type": "code",
   "execution_count": 15,
   "metadata": {},
   "outputs": [
    {
     "data": {
      "text/plain": [
       "3838.694026547465"
      ]
     },
     "execution_count": 15,
     "metadata": {},
     "output_type": "execute_result"
    }
   ],
   "source": [
    "Precio_Futuro=Spot_P*np.exp((r_local-r_extranjera)*t_1)\n",
    "Precio_Futuro\n"
   ]
  },
  {
   "cell_type": "code",
   "execution_count": 16,
   "metadata": {},
   "outputs": [],
   "source": [
    "def optimizacion_F(Aversion_R, S_Futuro, mu_S,sigma_p,S_0):\n",
    "    m= gp.Model()\n",
    "    eta= m.addVar(lb= -1*float(\"inf\") )\n",
    "    pi = (mu_S-S_0)+eta*(S_Futuro-mu_S) - Aversion_R*sigma_p*(1+ eta**2 - 2*eta)\n",
    "    m.setObjective(-1*pi)\n",
    "    m.optimize()\n",
    "    n_options= eta.x\n",
    "    return n_options"
   ]
  },
  {
   "cell_type": "code",
   "execution_count": 17,
   "metadata": {},
   "outputs": [
    {
     "name": "stdout",
     "output_type": "stream",
     "text": [
      "Gurobi Optimizer version 11.0.2 build v11.0.2rc0 (win64 - Windows 11.0 (22631.2))\n",
      "\n",
      "CPU model: Intel(R) Core(TM) i5-10300H CPU @ 2.50GHz, instruction set [SSE2|AVX|AVX2]\n",
      "Thread count: 4 physical cores, 8 logical processors, using up to 8 threads\n",
      "\n",
      "Optimize a model with 0 rows, 1 columns and 0 nonzeros\n",
      "Model fingerprint: 0x0380b046\n",
      "Model has 1 quadratic objective term\n",
      "Coefficient statistics:\n",
      "  Matrix range     [0e+00, 0e+00]\n",
      "  Objective range  [4e+05, 4e+05]\n",
      "  QObjective range [4e+05, 4e+05]\n",
      "  Bounds range     [0e+00, 0e+00]\n",
      "  RHS range        [0e+00, 0e+00]\n",
      "Presolve removed 0 rows and 1 columns\n",
      "Presolve time: 0.01s\n",
      "Presolve: All rows and columns removed\n",
      "\n",
      "Barrier solved model in 0 iterations and 0.01 seconds (0.00 work units)\n",
      "Optimal objective -1.76417541e+01\n"
     ]
    }
   ],
   "source": [
    "Razon_Cobertura_F= optimizacion_F(Aversion_R=Coef_Aversion_Riesgo,S_Futuro=Precio_Futuro,mu_S=Mu_USDCOP,sigma_p=Sigma_Precios, S_0=Spot_P)"
   ]
  },
  {
   "cell_type": "code",
   "execution_count": 18,
   "metadata": {},
   "outputs": [
    {
     "name": "stdout",
     "output_type": "stream",
     "text": [
      "La razón de cobertura de la fórmula empleada, para un agente con un coeficiente de aversión al riesgo de 1 es de: 0.9998\n"
     ]
    }
   ],
   "source": [
    "print(f\"La razón de cobertura de la fórmula empleada, para un agente con un coeficiente de aversión al riesgo de 1 es de: {Razon_Cobertura_F:.4f}\")"
   ]
  },
  {
   "cell_type": "markdown",
   "metadata": {},
   "source": [
    "## Gráficos Utilidad Cobertura vs No Cobertura (Futuros)"
   ]
  },
  {
   "cell_type": "code",
   "execution_count": 21,
   "metadata": {},
   "outputs": [
    {
     "data": {
      "image/png": "[encoded data removed]",
      "text/plain": [
       "<Figure size 1000x600 with 1 Axes>"
      ]
     },
     "metadata": {},
     "output_type": "display_data"
    }
   ],
   "source": [
    "Prices = np.random.normal(loc=Mu_USDCOP,scale=np.sqrt(Sigma_Precios),size=1000)\n",
    "Unhedged_utility_F=(Prices-Spot_P)\n",
    "Hedged_utility_F= (Prices-Spot_P)+Razon_Cobertura*(Precio_Futuro-Prices)\n",
    "plt.figure(figsize=(10, 6))\n",
    "sns.kdeplot(Unhedged_utility_F, fill=False, color='b',label='Unhedged Utility')\n",
    "sns.kdeplot(Hedged_utility_F, fill=False, color='r', label='Hedged Utility')\n",
    "\n",
    "plt.title('Utilidades Futuro')\n",
    "plt.xlabel('Profit')\n",
    "plt.ylabel('Density')\n",
    "plt.legend()\n",
    "plt.show()"
   ]
  },
  {
   "cell_type": "code",
   "execution_count": 1,
   "metadata": {},
   "outputs": [
    {
     "name": "stdout",
     "output_type": "stream",
     "text": [
      "Hola\n"
     ]
    }
   ],
   "source": [
    "print(\"Hola\")"
   ]
  },
  {
   "cell_type": "markdown",
   "metadata": {},
   "source": [
    "### Estadísticas Descriptivas"
   ]
  },
  {
   "cell_type": "code",
   "execution_count": 22,
   "metadata": {},
   "outputs": [
    {
     "data": {
      "text/html": [
       "<div>\n",
       "<style scoped>\n",
       "    .dataframe tbody tr th:only-of-type {\n",
       "        vertical-align: middle;\n",
       "    }\n",
       "\n",
       "    .dataframe tbody tr th {\n",
       "        vertical-align: top;\n",
       "    }\n",
       "\n",
       "    .dataframe thead th {\n",
       "        text-align: right;\n",
       "    }\n",
       "</style>\n",
       "<table border=\"1\" class=\"dataframe\">\n",
       "  <thead>\n",
       "    <tr style=\"text-align: right;\">\n",
       "      <th></th>\n",
       "      <th>Unhedged Utility</th>\n",
       "      <th>Hedged Utility</th>\n",
       "    </tr>\n",
       "  </thead>\n",
       "  <tbody>\n",
       "    <tr>\n",
       "      <th>count</th>\n",
       "      <td>1000.000000</td>\n",
       "      <td>1000.000000</td>\n",
       "    </tr>\n",
       "    <tr>\n",
       "      <th>mean</th>\n",
       "      <td>112.290247</td>\n",
       "      <td>17.656475</td>\n",
       "    </tr>\n",
       "    <tr>\n",
       "      <th>std</th>\n",
       "      <td>409.772417</td>\n",
       "      <td>0.097433</td>\n",
       "    </tr>\n",
       "    <tr>\n",
       "      <th>min</th>\n",
       "      <td>-1367.923870</td>\n",
       "      <td>17.304519</td>\n",
       "    </tr>\n",
       "    <tr>\n",
       "      <th>25%</th>\n",
       "      <td>-157.830631</td>\n",
       "      <td>17.592247</td>\n",
       "    </tr>\n",
       "    <tr>\n",
       "      <th>50%</th>\n",
       "      <td>112.080921</td>\n",
       "      <td>17.656425</td>\n",
       "    </tr>\n",
       "    <tr>\n",
       "      <th>75%</th>\n",
       "      <td>376.953429</td>\n",
       "      <td>17.719405</td>\n",
       "    </tr>\n",
       "    <tr>\n",
       "      <th>max</th>\n",
       "      <td>1570.749995</td>\n",
       "      <td>18.003258</td>\n",
       "    </tr>\n",
       "  </tbody>\n",
       "</table>\n",
       "</div>"
      ],
      "text/plain": [
       "       Unhedged Utility  Hedged Utility\n",
       "count       1000.000000     1000.000000\n",
       "mean         112.290247       17.656475\n",
       "std          409.772417        0.097433\n",
       "min        -1367.923870       17.304519\n",
       "25%         -157.830631       17.592247\n",
       "50%          112.080921       17.656425\n",
       "75%          376.953429       17.719405\n",
       "max         1570.749995       18.003258"
      ]
     },
     "execution_count": 22,
     "metadata": {},
     "output_type": "execute_result"
    }
   ],
   "source": [
    "Unhedged_utility_F_df= pd.DataFrame(Unhedged_utility_F)\n",
    "Hedged_utility_F_df= pd.DataFrame(Hedged_utility_F)\n",
    "Megerd_Df= pd.merge(Unhedged_utility_F_df,Hedged_utility_F_df,left_index=True,right_index=True)\n",
    "Megerd_Df=Megerd_Df.rename(columns={\"0_x\":\"Unhedged Utility\",\"0_y\":\"Hedged Utility\"})\n",
    "Megerd_Df.describe()"
   ]
  },
  {
   "cell_type": "markdown",
   "metadata": {},
   "source": [
    "## Gráfico diferente aversión al riesgo (Futuros)"
   ]
  },
  {
   "cell_type": "code",
   "execution_count": 23,
   "metadata": {},
   "outputs": [
    {
     "name": "stdout",
     "output_type": "stream",
     "text": [
      "Gurobi Optimizer version 11.0.2 build v11.0.2rc0 (win64 - Windows 11.0 (22631.2))\n",
      "\n",
      "CPU model: Intel(R) Core(TM) i5-10300H CPU @ 2.50GHz, instruction set [SSE2|AVX|AVX2]\n",
      "Thread count: 4 physical cores, 8 logical processors, using up to 8 threads\n",
      "\n",
      "Optimize a model with 0 rows, 1 columns and 0 nonzeros\n",
      "Model fingerprint: 0xbeb36edc\n",
      "Model has 1 quadratic objective term\n",
      "Coefficient statistics:\n",
      "  Matrix range     [0e+00, 0e+00]\n",
      "  Objective range  [2e+05, 2e+05]\n",
      "  QObjective range [2e+05, 2e+05]\n",
      "  Bounds range     [0e+00, 0e+00]\n",
      "  RHS range        [0e+00, 0e+00]\n",
      "Presolve removed 0 rows and 1 columns\n",
      "Presolve time: 0.01s\n",
      "Presolve: All rows and columns removed\n",
      "\n",
      "Barrier solved model in 0 iterations and 0.01 seconds (0.00 work units)\n",
      "Optimal objective -1.76495402e+01\n",
      "Gurobi Optimizer version 11.0.2 build v11.0.2rc0 (win64 - Windows 11.0 (22631.2))\n",
      "\n",
      "CPU model: Intel(R) Core(TM) i5-10300H CPU @ 2.50GHz, instruction set [SSE2|AVX|AVX2]\n",
      "Thread count: 4 physical cores, 8 logical processors, using up to 8 threads\n",
      "\n",
      "Optimize a model with 0 rows, 1 columns and 0 nonzeros\n",
      "Model fingerprint: 0x0380b046\n",
      "Model has 1 quadratic objective term\n",
      "Coefficient statistics:\n",
      "  Matrix range     [0e+00, 0e+00]\n",
      "  Objective range  [4e+05, 4e+05]\n",
      "  QObjective range [4e+05, 4e+05]\n",
      "  Bounds range     [0e+00, 0e+00]\n",
      "  RHS range        [0e+00, 0e+00]\n",
      "Presolve removed 0 rows and 1 columns\n",
      "Presolve time: 0.01s\n",
      "Presolve: All rows and columns removed\n",
      "\n",
      "Barrier solved model in 0 iterations and 0.01 seconds (0.00 work units)\n",
      "Optimal objective -1.76417541e+01\n",
      "Gurobi Optimizer version 11.0.2 build v11.0.2rc0 (win64 - Windows 11.0 (22631.2))\n",
      "\n",
      "CPU model: Intel(R) Core(TM) i5-10300H CPU @ 2.50GHz, instruction set [SSE2|AVX|AVX2]\n",
      "Thread count: 4 physical cores, 8 logical processors, using up to 8 threads\n",
      "\n",
      "Optimize a model with 0 rows, 1 columns and 0 nonzeros\n",
      "Model fingerprint: 0xc791cfa4\n",
      "Model has 1 quadratic objective term\n",
      "Coefficient statistics:\n",
      "  Matrix range     [0e+00, 0e+00]\n",
      "  Objective range  [5e+05, 5e+05]\n",
      "  QObjective range [5e+05, 5e+05]\n",
      "  Bounds range     [0e+00, 0e+00]\n",
      "  RHS range        [0e+00, 0e+00]\n",
      "Presolve removed 0 rows and 1 columns\n",
      "Presolve time: 0.01s\n",
      "Presolve: All rows and columns removed\n",
      "\n",
      "Barrier solved model in 0 iterations and 0.01 seconds (0.00 work units)\n",
      "Optimal objective -1.76391587e+01\n",
      "Gurobi Optimizer version 11.0.2 build v11.0.2rc0 (win64 - Windows 11.0 (22631.2))\n",
      "\n",
      "CPU model: Intel(R) Core(TM) i5-10300H CPU @ 2.50GHz, instruction set [SSE2|AVX|AVX2]\n",
      "Thread count: 4 physical cores, 8 logical processors, using up to 8 threads\n",
      "\n",
      "Optimize a model with 0 rows, 1 columns and 0 nonzeros\n",
      "Model fingerprint: 0x25577f2a\n",
      "Model has 1 quadratic objective term\n",
      "Coefficient statistics:\n",
      "  Matrix range     [0e+00, 0e+00]\n",
      "  Objective range  [7e+05, 7e+05]\n",
      "  QObjective range [7e+05, 7e+05]\n",
      "  Bounds range     [0e+00, 0e+00]\n",
      "  RHS range        [0e+00, 0e+00]\n",
      "Presolve removed 0 rows and 1 columns\n",
      "Presolve time: 0.01s\n",
      "Presolve: All rows and columns removed\n",
      "\n",
      "Barrier solved model in 0 iterations and 0.01 seconds (0.00 work units)\n",
      "Optimal objective -1.76378610e+01\n"
     ]
    }
   ],
   "source": [
    "Risk_Adversion_Line= [0.5,1,1.5,2]\n",
    "Risk_Adversion_Utility_F_df= pd.DataFrame()\n",
    "for i in Risk_Adversion_Line:\n",
    "    Razon_Cobertura= optimizacion_F(Aversion_R=i,S_Futuro=Precio_Futuro,mu_S=Mu_USDCOP,sigma_p=Sigma_Precios, S_0=Spot_P)\n",
    "    Hedged_utility= (Prices-Spot_P)+Razon_Cobertura*(Precio_Futuro-Prices)\n",
    "    Risk_Adversion_Utility_F_df[i]= Hedged_utility"
   ]
  },
  {
   "cell_type": "code",
   "execution_count": 24,
   "metadata": {},
   "outputs": [
    {
     "data": {
      "image/png": "[encoded data removed]",
      "text/plain": [
       "<Figure size 640x480 with 1 Axes>"
      ]
     },
     "metadata": {},
     "output_type": "display_data"
    }
   ],
   "source": [
    "for column in Risk_Adversion_Utility_F_df.columns:\n",
    "    sns.kdeplot(Risk_Adversion_Utility_F_df[column], fill=False, label=f\"{column} Aversión al Riesgo\")\n",
    "\n",
    "# Añadir título y etiquetas\n",
    "plt.title('Utilidades')\n",
    "plt.xlabel('Profit')\n",
    "plt.ylabel('Density')\n",
    "\n",
    "# Añadir la leyenda\n",
    "plt.legend()\n",
    "\n",
    "# Mostrar el gráfico\n",
    "plt.show()"
   ]
  },
  {
   "cell_type": "markdown",
   "metadata": {},
   "source": [
    "### Estadísticas Descriptivas"
   ]
  },
  {
   "cell_type": "code",
   "execution_count": 25,
   "metadata": {},
   "outputs": [
    {
     "data": {
      "text/html": [
       "<div>\n",
       "<style scoped>\n",
       "    .dataframe tbody tr th:only-of-type {\n",
       "        vertical-align: middle;\n",
       "    }\n",
       "\n",
       "    .dataframe tbody tr th {\n",
       "        vertical-align: top;\n",
       "    }\n",
       "\n",
       "    .dataframe thead th {\n",
       "        text-align: right;\n",
       "    }\n",
       "</style>\n",
       "<table border=\"1\" class=\"dataframe\">\n",
       "  <thead>\n",
       "    <tr style=\"text-align: right;\">\n",
       "      <th></th>\n",
       "      <th>0.5</th>\n",
       "      <th>1.0</th>\n",
       "      <th>1.5</th>\n",
       "      <th>2.0</th>\n",
       "    </tr>\n",
       "  </thead>\n",
       "  <tbody>\n",
       "    <tr>\n",
       "      <th>count</th>\n",
       "      <td>1000.000000</td>\n",
       "      <td>1000.000000</td>\n",
       "      <td>1000.000000</td>\n",
       "      <td>1000.000000</td>\n",
       "    </tr>\n",
       "    <tr>\n",
       "      <th>mean</th>\n",
       "      <td>17.673750</td>\n",
       "      <td>17.653859</td>\n",
       "      <td>17.647229</td>\n",
       "      <td>17.643914</td>\n",
       "    </tr>\n",
       "    <tr>\n",
       "      <th>std</th>\n",
       "      <td>0.172220</td>\n",
       "      <td>0.086110</td>\n",
       "      <td>0.057407</td>\n",
       "      <td>0.043055</td>\n",
       "    </tr>\n",
       "    <tr>\n",
       "      <th>min</th>\n",
       "      <td>17.051642</td>\n",
       "      <td>17.342805</td>\n",
       "      <td>17.439859</td>\n",
       "      <td>17.488387</td>\n",
       "    </tr>\n",
       "    <tr>\n",
       "      <th>25%</th>\n",
       "      <td>17.560223</td>\n",
       "      <td>17.597096</td>\n",
       "      <td>17.609386</td>\n",
       "      <td>17.615532</td>\n",
       "    </tr>\n",
       "    <tr>\n",
       "      <th>50%</th>\n",
       "      <td>17.673662</td>\n",
       "      <td>17.653815</td>\n",
       "      <td>17.647199</td>\n",
       "      <td>17.643892</td>\n",
       "    </tr>\n",
       "    <tr>\n",
       "      <th>75%</th>\n",
       "      <td>17.784984</td>\n",
       "      <td>17.709476</td>\n",
       "      <td>17.684306</td>\n",
       "      <td>17.671722</td>\n",
       "    </tr>\n",
       "    <tr>\n",
       "      <th>max</th>\n",
       "      <td>18.286715</td>\n",
       "      <td>17.960342</td>\n",
       "      <td>17.851550</td>\n",
       "      <td>17.797155</td>\n",
       "    </tr>\n",
       "  </tbody>\n",
       "</table>\n",
       "</div>"
      ],
      "text/plain": [
       "               0.5          1.0          1.5          2.0\n",
       "count  1000.000000  1000.000000  1000.000000  1000.000000\n",
       "mean     17.673750    17.653859    17.647229    17.643914\n",
       "std       0.172220     0.086110     0.057407     0.043055\n",
       "min      17.051642    17.342805    17.439859    17.488387\n",
       "25%      17.560223    17.597096    17.609386    17.615532\n",
       "50%      17.673662    17.653815    17.647199    17.643892\n",
       "75%      17.784984    17.709476    17.684306    17.671722\n",
       "max      18.286715    17.960342    17.851550    17.797155"
      ]
     },
     "execution_count": 25,
     "metadata": {},
     "output_type": "execute_result"
    }
   ],
   "source": [
    "Risk_Adversion_Utility_F_df.describe()"
   ]
  }
 ],
 "metadata": {
  "kernelspec": {
   "display_name": "RedNeuronal",
   "language": "python",
   "name": "python3"
  },
  "language_info": {
   "codemirror_mode": {
    "name": "ipython",
    "version": 3
   },
   "file_extension": ".py",
   "mimetype": "text/x-python",
   "name": "python",
   "nbconvert_exporter": "python",
   "pygments_lexer": "ipython3",
   "version": "3.11.7"
  }
 },
 "nbformat": 4,
 "nbformat_minor": 2
}
